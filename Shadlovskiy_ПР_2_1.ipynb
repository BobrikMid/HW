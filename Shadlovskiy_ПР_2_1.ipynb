{
 "cells": [
  {
   "cell_type": "markdown",
   "id": "affe884e",
   "metadata": {},
   "source": [
    "# Практична робота 2. Аналіз даних. Робота даними csv "
   ]
  },
  {
   "cell_type": "markdown",
   "id": "d6704297",
   "metadata": {},
   "source": [
    "## Завдання 2"
   ]
  },
  {
   "cell_type": "code",
   "execution_count": 18,
   "id": "c4dbca43",
   "metadata": {},
   "outputs": [],
   "source": [
    "import pandas as pd\n",
    "df = pd.read_csv(\"C:/Users/faika/OneDrive/Desktop/GlobalYouTubeStatistics.csv\", encoding=\"latin1\")"
   ]
  },
  {
   "cell_type": "code",
   "execution_count": 19,
   "id": "442131fd",
   "metadata": {},
   "outputs": [
    {
     "data": {
      "text/plain": [
       "<bound method NDFrame.head of      rank                    Youtuber  subscribers   video views  \\\n",
       "0       1                    T-Series    245000000  2.280000e+11   \n",
       "1       2              YouTube Movies    170000000  0.000000e+00   \n",
       "2       3                     MrBeast    166000000  2.836884e+10   \n",
       "3       4  Cocomelon - Nursery Rhymes    162000000  1.640000e+11   \n",
       "4       5                   SET India    159000000  1.480000e+11   \n",
       "..    ...                         ...          ...           ...   \n",
       "990   991               Natan por Aï¿     12300000  9.029610e+09   \n",
       "991   992    Free Fire India Official     12300000  1.674410e+09   \n",
       "992   993                       Panda     12300000  2.214684e+09   \n",
       "993   994                 RobTopGames     12300000  3.741235e+08   \n",
       "994   995                Make Joke Of     12300000  2.129774e+09   \n",
       "\n",
       "             category                       Title  uploads         Country  \\\n",
       "0               Music                    T-Series    20082           India   \n",
       "1    Film & Animation               youtubemovies        1   United States   \n",
       "2       Entertainment                     MrBeast      741   United States   \n",
       "3           Education  Cocomelon - Nursery Rhymes      966   United States   \n",
       "4               Shows                   SET India   116536           India   \n",
       "..                ...                         ...      ...             ...   \n",
       "990            Sports               Natan por Aï¿     1200          Brazil   \n",
       "991    People & Blogs    Free Fire India Official     1500           India   \n",
       "992               NaN                 HybridPanda     2452  United Kingdom   \n",
       "993            Gaming                 RobTopGames       39          Sweden   \n",
       "994            Comedy                Make Joke Of       62           India   \n",
       "\n",
       "    Abbreviation   channel_type  ...  subscribers_for_last_30_days  \\\n",
       "0             IN          Music  ...                     2000000.0   \n",
       "1             US          Games  ...                           NaN   \n",
       "2             US  Entertainment  ...                     8000000.0   \n",
       "3             US      Education  ...                     1000000.0   \n",
       "4             IN  Entertainment  ...                     1000000.0   \n",
       "..           ...            ...  ...                           ...   \n",
       "990           BR  Entertainment  ...                      700000.0   \n",
       "991           IN          Games  ...                      300000.0   \n",
       "992           GB          Games  ...                        1000.0   \n",
       "993           SE          Games  ...                      100000.0   \n",
       "994           IN         Comedy  ...                      100000.0   \n",
       "\n",
       "     created_year  created_month  created_date  \\\n",
       "0          2006.0            Mar          13.0   \n",
       "1          2006.0            Mar           5.0   \n",
       "2          2012.0            Feb          20.0   \n",
       "3          2006.0            Sep           1.0   \n",
       "4          2006.0            Sep          20.0   \n",
       "..            ...            ...           ...   \n",
       "990        2017.0            Feb          12.0   \n",
       "991        2018.0            Sep          14.0   \n",
       "992        2006.0            Sep          11.0   \n",
       "993        2012.0            May           9.0   \n",
       "994        2017.0            Aug           1.0   \n",
       "\n",
       "     Gross tertiary education enrollment (%)    Population  Unemployment rate  \\\n",
       "0                                       28.1  1.366418e+09               5.36   \n",
       "1                                       88.2  3.282395e+08              14.70   \n",
       "2                                       88.2  3.282395e+08              14.70   \n",
       "3                                       88.2  3.282395e+08              14.70   \n",
       "4                                       28.1  1.366418e+09               5.36   \n",
       "..                                       ...           ...                ...   \n",
       "990                                     51.3  2.125594e+08              12.08   \n",
       "991                                     28.1  1.366418e+09               5.36   \n",
       "992                                     60.0  6.683440e+07               3.85   \n",
       "993                                     67.0  1.028545e+07               6.48   \n",
       "994                                     28.1  1.366418e+09               5.36   \n",
       "\n",
       "     Urban_population   Latitude  Longitude  \n",
       "0         471031528.0  20.593684  78.962880  \n",
       "1         270663028.0  37.090240 -95.712891  \n",
       "2         270663028.0  37.090240 -95.712891  \n",
       "3         270663028.0  37.090240 -95.712891  \n",
       "4         471031528.0  20.593684  78.962880  \n",
       "..                ...        ...        ...  \n",
       "990       183241641.0 -14.235004 -51.925280  \n",
       "991       471031528.0  20.593684  78.962880  \n",
       "992        55908316.0  55.378051  -3.435973  \n",
       "993         9021165.0  60.128161  18.643501  \n",
       "994       471031528.0  20.593684  78.962880  \n",
       "\n",
       "[995 rows x 28 columns]>"
      ]
     },
     "execution_count": 19,
     "metadata": {},
     "output_type": "execute_result"
    }
   ],
   "source": [
    "df.head"
   ]
  },
  {
   "cell_type": "code",
   "execution_count": 20,
   "id": "b46b471d",
   "metadata": {},
   "outputs": [
    {
     "data": {
      "text/plain": [
       "(995, 28)"
      ]
     },
     "execution_count": 20,
     "metadata": {},
     "output_type": "execute_result"
    }
   ],
   "source": [
    "df.shape"
   ]
  },
  {
   "cell_type": "code",
   "execution_count": 21,
   "id": "3b1f96dc",
   "metadata": {},
   "outputs": [
    {
     "name": "stdout",
     "output_type": "stream",
     "text": [
      "rank                                         0\n",
      "Youtuber                                     0\n",
      "subscribers                                  0\n",
      "video views                                  0\n",
      "category                                    46\n",
      "Title                                        0\n",
      "uploads                                      0\n",
      "Country                                    122\n",
      "Abbreviation                               122\n",
      "channel_type                                30\n",
      "video_views_rank                             1\n",
      "country_rank                               116\n",
      "channel_type_rank                           33\n",
      "video_views_for_the_last_30_days            56\n",
      "lowest_monthly_earnings                      0\n",
      "highest_monthly_earnings                     0\n",
      "lowest_yearly_earnings                       0\n",
      "highest_yearly_earnings                      0\n",
      "subscribers_for_last_30_days               337\n",
      "created_year                                 5\n",
      "created_month                                5\n",
      "created_date                                 5\n",
      "Gross tertiary education enrollment (%)    123\n",
      "Population                                 123\n",
      "Unemployment rate                          123\n",
      "Urban_population                           123\n",
      "Latitude                                   123\n",
      "Longitude                                  123\n",
      "dtype: int64\n"
     ]
    }
   ],
   "source": [
    "missing = df.isna().sum()\n",
    "print(missing)\n",
    "df.fillna(value=pd.NA, inplace=True)"
   ]
  },
  {
   "cell_type": "code",
   "execution_count": 23,
   "id": "bd8cc063",
   "metadata": {},
   "outputs": [],
   "source": [
    "numeric = df.select_dtypes(include=['number']).columns\n",
    "df[numeric] = df[numeric].fillna(df[numeric].mean())\n",
    "\n",
    "df[numeric] = df[numeric].astype(float)"
   ]
  },
  {
   "cell_type": "code",
   "execution_count": 24,
   "id": "79bc8ebe",
   "metadata": {},
   "outputs": [
    {
     "name": "stdout",
     "output_type": "stream",
     "text": [
      "rank                                         0\n",
      "Youtuber                                     0\n",
      "subscribers                                  0\n",
      "video views                                  0\n",
      "category                                    46\n",
      "Title                                        0\n",
      "uploads                                      0\n",
      "Country                                    122\n",
      "Abbreviation                               122\n",
      "channel_type                                30\n",
      "video_views_rank                             0\n",
      "country_rank                                 0\n",
      "channel_type_rank                            0\n",
      "video_views_for_the_last_30_days             0\n",
      "lowest_monthly_earnings                      0\n",
      "highest_monthly_earnings                     0\n",
      "lowest_yearly_earnings                       0\n",
      "highest_yearly_earnings                      0\n",
      "subscribers_for_last_30_days                 0\n",
      "created_year                                 0\n",
      "created_month                                5\n",
      "created_date                                 0\n",
      "Gross tertiary education enrollment (%)      0\n",
      "Population                                   0\n",
      "Unemployment rate                            0\n",
      "Urban_population                             0\n",
      "Latitude                                     0\n",
      "Longitude                                    0\n",
      "dtype: int64\n"
     ]
    },
    {
     "data": {
      "text/plain": [
       "<bound method NDFrame.head of       rank                    Youtuber  subscribers   video views  \\\n",
       "0      1.0                    T-Series  245000000.0  2.280000e+11   \n",
       "1      2.0              YouTube Movies  170000000.0  0.000000e+00   \n",
       "2      3.0                     MrBeast  166000000.0  2.836884e+10   \n",
       "3      4.0  Cocomelon - Nursery Rhymes  162000000.0  1.640000e+11   \n",
       "4      5.0                   SET India  159000000.0  1.480000e+11   \n",
       "..     ...                         ...          ...           ...   \n",
       "990  991.0               Natan por Aï¿   12300000.0  9.029610e+09   \n",
       "991  992.0    Free Fire India Official   12300000.0  1.674410e+09   \n",
       "992  993.0                       Panda   12300000.0  2.214684e+09   \n",
       "993  994.0                 RobTopGames   12300000.0  3.741235e+08   \n",
       "994  995.0                Make Joke Of   12300000.0  2.129774e+09   \n",
       "\n",
       "             category                       Title   uploads         Country  \\\n",
       "0               Music                    T-Series   20082.0           India   \n",
       "1    Film & Animation               youtubemovies       1.0   United States   \n",
       "2       Entertainment                     MrBeast     741.0   United States   \n",
       "3           Education  Cocomelon - Nursery Rhymes     966.0   United States   \n",
       "4               Shows                   SET India  116536.0           India   \n",
       "..                ...                         ...       ...             ...   \n",
       "990            Sports               Natan por Aï¿    1200.0          Brazil   \n",
       "991    People & Blogs    Free Fire India Official    1500.0           India   \n",
       "992              <NA>                 HybridPanda    2452.0  United Kingdom   \n",
       "993            Gaming                 RobTopGames      39.0          Sweden   \n",
       "994            Comedy                Make Joke Of      62.0           India   \n",
       "\n",
       "    Abbreviation   channel_type  ...  subscribers_for_last_30_days  \\\n",
       "0             IN          Music  ...                  2.000000e+06   \n",
       "1             US          Games  ...                  3.490791e+05   \n",
       "2             US  Entertainment  ...                  8.000000e+06   \n",
       "3             US      Education  ...                  1.000000e+06   \n",
       "4             IN  Entertainment  ...                  1.000000e+06   \n",
       "..           ...            ...  ...                           ...   \n",
       "990           BR  Entertainment  ...                  7.000000e+05   \n",
       "991           IN          Games  ...                  3.000000e+05   \n",
       "992           GB          Games  ...                  1.000000e+03   \n",
       "993           SE          Games  ...                  1.000000e+05   \n",
       "994           IN         Comedy  ...                  1.000000e+05   \n",
       "\n",
       "     created_year  created_month  created_date  \\\n",
       "0          2006.0            Mar          13.0   \n",
       "1          2006.0            Mar           5.0   \n",
       "2          2012.0            Feb          20.0   \n",
       "3          2006.0            Sep           1.0   \n",
       "4          2006.0            Sep          20.0   \n",
       "..            ...            ...           ...   \n",
       "990        2017.0            Feb          12.0   \n",
       "991        2018.0            Sep          14.0   \n",
       "992        2006.0            Sep          11.0   \n",
       "993        2012.0            May           9.0   \n",
       "994        2017.0            Aug           1.0   \n",
       "\n",
       "     Gross tertiary education enrollment (%)    Population  Unemployment rate  \\\n",
       "0                                       28.1  1.366418e+09               5.36   \n",
       "1                                       88.2  3.282395e+08              14.70   \n",
       "2                                       88.2  3.282395e+08              14.70   \n",
       "3                                       88.2  3.282395e+08              14.70   \n",
       "4                                       28.1  1.366418e+09               5.36   \n",
       "..                                       ...           ...                ...   \n",
       "990                                     51.3  2.125594e+08              12.08   \n",
       "991                                     28.1  1.366418e+09               5.36   \n",
       "992                                     60.0  6.683440e+07               3.85   \n",
       "993                                     67.0  1.028545e+07               6.48   \n",
       "994                                     28.1  1.366418e+09               5.36   \n",
       "\n",
       "     Urban_population   Latitude  Longitude  \n",
       "0         471031528.0  20.593684  78.962880  \n",
       "1         270663028.0  37.090240 -95.712891  \n",
       "2         270663028.0  37.090240 -95.712891  \n",
       "3         270663028.0  37.090240 -95.712891  \n",
       "4         471031528.0  20.593684  78.962880  \n",
       "..                ...        ...        ...  \n",
       "990       183241641.0 -14.235004 -51.925280  \n",
       "991       471031528.0  20.593684  78.962880  \n",
       "992        55908316.0  55.378051  -3.435973  \n",
       "993         9021165.0  60.128161  18.643501  \n",
       "994       471031528.0  20.593684  78.962880  \n",
       "\n",
       "[995 rows x 28 columns]>"
      ]
     },
     "execution_count": 24,
     "metadata": {},
     "output_type": "execute_result"
    }
   ],
   "source": [
    "missing = df.isna().sum()\n",
    "print(missing)"
   ]
  },
  {
   "cell_type": "code",
   "execution_count": 25,
   "id": "80d45340",
   "metadata": {},
   "outputs": [
    {
     "data": {
      "text/plain": [
       "49"
      ]
     },
     "execution_count": 25,
     "metadata": {},
     "output_type": "execute_result"
    }
   ],
   "source": [
    "df['Country'].nunique()"
   ]
  },
  {
   "cell_type": "code",
   "execution_count": 32,
   "id": "2dfcabe2",
   "metadata": {},
   "outputs": [
    {
     "data": {
      "text/plain": [
       "(array([277., 299., 174., 103.,  51.,  39.,  19.,   8.,   5.,   2.,   2.,\n",
       "          1.,   4.,   2.,   0.,   0.,   3.,   0.,   0.,   1.,   1.,   0.,\n",
       "          1.,   0.,   0.,   0.,   0.,   0.,   0.,   0.,   0.,   0.,   1.,\n",
       "          0.,   0.,   1.,   0.,   0.,   0.,   0.,   0.,   0.,   0.,   0.,\n",
       "          0.,   0.,   0.,   0.,   0.,   1.]),\n",
       " array([0.0000e+00, 4.5600e+09, 9.1200e+09, 1.3680e+10, 1.8240e+10,\n",
       "        2.2800e+10, 2.7360e+10, 3.1920e+10, 3.6480e+10, 4.1040e+10,\n",
       "        4.5600e+10, 5.0160e+10, 5.4720e+10, 5.9280e+10, 6.3840e+10,\n",
       "        6.8400e+10, 7.2960e+10, 7.7520e+10, 8.2080e+10, 8.6640e+10,\n",
       "        9.1200e+10, 9.5760e+10, 1.0032e+11, 1.0488e+11, 1.0944e+11,\n",
       "        1.1400e+11, 1.1856e+11, 1.2312e+11, 1.2768e+11, 1.3224e+11,\n",
       "        1.3680e+11, 1.4136e+11, 1.4592e+11, 1.5048e+11, 1.5504e+11,\n",
       "        1.5960e+11, 1.6416e+11, 1.6872e+11, 1.7328e+11, 1.7784e+11,\n",
       "        1.8240e+11, 1.8696e+11, 1.9152e+11, 1.9608e+11, 2.0064e+11,\n",
       "        2.0520e+11, 2.0976e+11, 2.1432e+11, 2.1888e+11, 2.2344e+11,\n",
       "        2.2800e+11]),\n",
       " <BarContainer object of 50 artists>)"
      ]
     },
     "execution_count": 32,
     "metadata": {},
     "output_type": "execute_result"
    },
    {
     "data": {
      "image/png": "[encoded data removed]",
      "text/plain": [
       "<Figure size 432x288 with 1 Axes>"
      ]
     },
     "metadata": {
      "needs_background": "light"
     },
     "output_type": "display_data"
    }
   ],
   "source": [
    "import matplotlib.pyplot as plt\n",
    "plt.xlabel('Перегляди ')\n",
    "plt.ylabel('Кількість')\n",
    "plt.hist(df['video views'], bins=50, edgecolor='k')"
   ]
  },
  {
   "cell_type": "code",
   "execution_count": 38,
   "id": "3ba62ea9",
   "metadata": {},
   "outputs": [
    {
     "name": "stdout",
     "output_type": "stream",
     "text": [
      "Max: 228000000000.0\n",
      "Min: 0.0\n",
      "Mean: 11039537052.03819\n"
     ]
    }
   ],
   "source": [
    "print(\"Max:\",max(df['video views']))\n",
    "print(\"Min:\",min(df['video views']))\n",
    "print(\"Mean:\",df['video views'].mean())"
   ]
  },
  {
   "cell_type": "code",
   "execution_count": 41,
   "id": "fde3c089",
   "metadata": {},
   "outputs": [
    {
     "data": {
      "text/plain": [
       "'India'"
      ]
     },
     "execution_count": 41,
     "metadata": {},
     "output_type": "execute_result"
    }
   ],
   "source": [
    "df.loc[df[\"uploads\"].idxmax(), 'Country']"
   ]
  },
  {
   "cell_type": "code",
   "execution_count": 42,
   "id": "91907979",
   "metadata": {},
   "outputs": [
    {
     "data": {
      "text/plain": [
       "'youtubemovies'"
      ]
     },
     "execution_count": 42,
     "metadata": {},
     "output_type": "execute_result"
    }
   ],
   "source": [
    "df.loc[df[\"video views\"].idxmin(),\"Title\"]"
   ]
  },
  {
   "cell_type": "code",
   "execution_count": null,
   "id": "5fe67d16",
   "metadata": {},
   "outputs": [],
   "source": []
  }
 ],
 "metadata": {
  "kernelspec": {
   "display_name": "Python 3 (ipykernel)",
   "language": "python",
   "name": "python3"
  },
  "language_info": {
   "codemirror_mode": {
    "name": "ipython",
    "version": 3
   },
   "file_extension": ".py",
   "mimetype": "text/x-python",
   "name": "python",
   "nbconvert_exporter": "python",
   "pygments_lexer": "ipython3",
   "version": "3.9.7"
  }
 },
 "nbformat": 4,
 "nbformat_minor": 5
}
